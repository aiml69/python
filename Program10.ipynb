{
 "cells": [
  {
   "cell_type": "markdown",
   "metadata": {
    "id": "XS7KOI2m_1lS"
   },
   "source": [
    "##Program-10\n",
    "\n",
    "Write a Python program using the Pandas library to manage employee data with the following functionality:\n",
    "\n",
    "\n",
    "1.  Prompt the user to input the number of employees and details for each employee, including Name, Age, Department, and Salary.\n",
    "\n",
    "2.  Store the input data in a Pandas DataFrame\n",
    "3.  Add a new column to the DataFrame to calculate the Bonus as 10% of the salary.\n",
    "4. Display employees belonging to a specific department entered by the user.\n",
    "5. Calculate and display the average salary for each department.\n",
    "6. Save the DataFrame to a CSV file with a user-provided filename."
   ]
  },
  {
   "cell_type": "code",
   "execution_count": 1,
   "metadata": {
    "id": "yV-qIKk39JGV"
   },
   "outputs": [],
   "source": [
    "import pandas as pd\n"
   ]
  },
  {
   "cell_type": "code",
   "execution_count": 2,
   "metadata": {
    "colab": {
     "base_uri": "https://localhost:8080/"
    },
    "id": "IqwJC00Q9dCB",
    "outputId": "cce13c2b-f1d1-47bb-d50e-a1a4afa441a5"
   },
   "outputs": [
    {
     "name": "stdin",
     "output_type": "stream",
     "text": [
      "Enter the number of employees:  3\n"
     ]
    }
   ],
   "source": [
    "# Step 1: Input the number of employees\n",
    "num_employees = int(input(\"Enter the number of employees: \"))\n",
    "\n",
    "# Step 2: Initialize an empty list to store employee data\n",
    "employee_data = []"
   ]
  },
  {
   "cell_type": "code",
   "execution_count": 3,
   "metadata": {
    "colab": {
     "base_uri": "https://localhost:8080/"
    },
    "id": "5PudRjr59k7u",
    "outputId": "9a194ea5-b034-4cd0-835a-a34ed7487216"
   },
   "outputs": [
    {
     "name": "stdout",
     "output_type": "stream",
     "text": [
      "\n",
      "Enter details for Employee 1:\n"
     ]
    },
    {
     "name": "stdin",
     "output_type": "stream",
     "text": [
      "Name:  dsa\n",
      "Age:  35\n",
      "Department:  hr\n",
      "Salary:  35000\n"
     ]
    },
    {
     "name": "stdout",
     "output_type": "stream",
     "text": [
      "\n",
      "Enter details for Employee 2:\n"
     ]
    },
    {
     "name": "stdin",
     "output_type": "stream",
     "text": [
      "Name:  ghjg\n",
      "Age:  25\n",
      "Department:  hr\n",
      "Salary:  20000\n"
     ]
    },
    {
     "name": "stdout",
     "output_type": "stream",
     "text": [
      "\n",
      "Enter details for Employee 3:\n"
     ]
    },
    {
     "name": "stdin",
     "output_type": "stream",
     "text": [
      "Name:  jhkj\n",
      "Age:  45\n",
      "Department:  admin\n",
      "Salary:  25000\n"
     ]
    }
   ],
   "source": [
    "# Step 3: Take user input for each employee\n",
    "for i in range(num_employees):\n",
    "    print(f\"\\nEnter details for Employee {i+1}:\")\n",
    "    name = input(\"Name: \")\n",
    "    age = int(input(\"Age: \"))\n",
    "    department = input(\"Department: \")\n",
    "    salary = float(input(\"Salary: \"))\n",
    "    employee_data.append({'Name': name, 'Age': age, 'Department': department, 'Salary': salary})\n"
   ]
  },
  {
   "cell_type": "code",
   "execution_count": 4,
   "metadata": {
    "id": "3__iXf4K9t5e"
   },
   "outputs": [],
   "source": [
    "# Step 4: Create a DataFrame from the user input\n",
    "df = pd.DataFrame(employee_data)\n",
    "\n"
   ]
  },
  {
   "cell_type": "code",
   "execution_count": 6,
   "metadata": {
    "colab": {
     "base_uri": "https://localhost:8080/"
    },
    "id": "ZN3vxmw2-qf_",
    "outputId": "c2d153d2-8acf-4169-be9e-8babef78ef8e"
   },
   "outputs": [
    {
     "name": "stdout",
     "output_type": "stream",
     "text": [
      "\n",
      "Original DataFrame:\n"
     ]
    },
    {
     "data": {
      "text/html": [
       "<div>\n",
       "<style scoped>\n",
       "    .dataframe tbody tr th:only-of-type {\n",
       "        vertical-align: middle;\n",
       "    }\n",
       "\n",
       "    .dataframe tbody tr th {\n",
       "        vertical-align: top;\n",
       "    }\n",
       "\n",
       "    .dataframe thead th {\n",
       "        text-align: right;\n",
       "    }\n",
       "</style>\n",
       "<table border=\"1\" class=\"dataframe\">\n",
       "  <thead>\n",
       "    <tr style=\"text-align: right;\">\n",
       "      <th></th>\n",
       "      <th>Name</th>\n",
       "      <th>Age</th>\n",
       "      <th>Department</th>\n",
       "      <th>Salary</th>\n",
       "    </tr>\n",
       "  </thead>\n",
       "  <tbody>\n",
       "    <tr>\n",
       "      <th>0</th>\n",
       "      <td>dsa</td>\n",
       "      <td>35</td>\n",
       "      <td>hr</td>\n",
       "      <td>35000.0</td>\n",
       "    </tr>\n",
       "    <tr>\n",
       "      <th>1</th>\n",
       "      <td>ghjg</td>\n",
       "      <td>25</td>\n",
       "      <td>hr</td>\n",
       "      <td>20000.0</td>\n",
       "    </tr>\n",
       "    <tr>\n",
       "      <th>2</th>\n",
       "      <td>jhkj</td>\n",
       "      <td>45</td>\n",
       "      <td>admin</td>\n",
       "      <td>25000.0</td>\n",
       "    </tr>\n",
       "  </tbody>\n",
       "</table>\n",
       "</div>"
      ],
      "text/plain": [
       "   Name  Age Department   Salary\n",
       "0   dsa   35         hr  35000.0\n",
       "1  ghjg   25         hr  20000.0\n",
       "2  jhkj   45      admin  25000.0"
      ]
     },
     "execution_count": 6,
     "metadata": {},
     "output_type": "execute_result"
    }
   ],
   "source": [
    "# Step 5: Display the original DataFrame\n",
    "print(\"\\nOriginal DataFrame:\")\n",
    "df"
   ]
  },
  {
   "cell_type": "code",
   "execution_count": 7,
   "metadata": {
    "colab": {
     "base_uri": "https://localhost:8080/"
    },
    "id": "JpMrpJIT-tDF",
    "outputId": "337f133c-6677-44c3-8395-ea34f0135994"
   },
   "outputs": [
    {
     "name": "stdout",
     "output_type": "stream",
     "text": [
      "\n",
      "DataFrame after adding Bonus column:\n",
      "   Name  Age Department   Salary   Bonus\n",
      "0   dsa   35         hr  35000.0  3500.0\n",
      "1  ghjg   25         hr  20000.0  2000.0\n",
      "2  jhkj   45      admin  25000.0  2500.0\n"
     ]
    }
   ],
   "source": [
    "# Step 6: Add a Bonus column (10% of Salary)\n",
    "df['Bonus'] = df['Salary'] * 0.10\n",
    "print(\"\\nDataFrame after adding Bonus column:\")\n",
    "print(df)\n"
   ]
  },
  {
   "cell_type": "code",
   "execution_count": 8,
   "metadata": {
    "colab": {
     "base_uri": "https://localhost:8080/"
    },
    "id": "_hNz5N71-xmF",
    "outputId": "f1976b49-f812-4027-a59d-8e2449f746bf"
   },
   "outputs": [
    {
     "name": "stdin",
     "output_type": "stream",
     "text": [
      "\n",
      "Enter the department to filter employees:  hr\n"
     ]
    },
    {
     "name": "stdout",
     "output_type": "stream",
     "text": [
      "\n",
      "Employees in the hr Department:\n",
      "   Name  Age Department   Salary   Bonus\n",
      "0   dsa   35         hr  35000.0  3500.0\n",
      "1  ghjg   25         hr  20000.0  2000.0\n"
     ]
    }
   ],
   "source": [
    "# Step 7: Filter employees based on department\n",
    "dept = input(\"\\nEnter the department to filter employees: \")\n",
    "filtered_df = df[df['Department'] == dept]\n",
    "print(f\"\\nEmployees in the {dept} Department:\")\n",
    "print(filtered_df)\n",
    "\n"
   ]
  },
  {
   "cell_type": "code",
   "execution_count": 9,
   "metadata": {
    "colab": {
     "base_uri": "https://localhost:8080/"
    },
    "id": "tj07WJbo-0kN",
    "outputId": "1f6e246f-b644-4ef3-aefc-d470be2e8b02"
   },
   "outputs": [
    {
     "name": "stdout",
     "output_type": "stream",
     "text": [
      "\n",
      "Average Salary by Department:\n",
      "Department\n",
      "admin    25000.0\n",
      "hr       27500.0\n",
      "Name: Salary, dtype: float64\n"
     ]
    }
   ],
   "source": [
    "# Step 8: Calculate average salary by department\n",
    "avg_salary_by_dept = df.groupby('Department')['Salary'].mean()\n",
    "print(\"\\nAverage Salary by Department:\")\n",
    "print(avg_salary_by_dept)\n",
    "\n"
   ]
  },
  {
   "cell_type": "code",
   "execution_count": 10,
   "metadata": {
    "colab": {
     "base_uri": "https://localhost:8080/"
    },
    "id": "sN2C6nht-4u1",
    "outputId": "7f28db35-ea6b-43be-8581-1b88de7af609"
   },
   "outputs": [
    {
     "name": "stdin",
     "output_type": "stream",
     "text": [
      "\n",
      "Enter the filename to save the DataFrame (e.g., 'employee_data.csv'):  C:\\Users\\Student\\Desktop\\Vasugi\\emp.csv\n"
     ]
    },
    {
     "name": "stdout",
     "output_type": "stream",
     "text": [
      "\n",
      "DataFrame saved to 'C:\\Users\\Student\\Desktop\\Vasugi\\emp.csv'\n"
     ]
    }
   ],
   "source": [
    "# Step 9: Save the DataFrame to a CSV file\n",
    "file_name = input(\"\\nEnter the filename to save the DataFrame (e.g., 'employee_data.csv'): \")\n",
    "df.to_csv(file_name, index=False)\n",
    "print(f\"\\nDataFrame saved to '{file_name}'\")"
   ]
  },
  {
   "cell_type": "code",
   "execution_count": 11,
   "metadata": {
    "colab": {
     "base_uri": "https://localhost:8080/",
     "height": 143
    },
    "id": "Ml1Xpas8-7D1",
    "outputId": "c29a651c-2c30-4efd-a4c4-e6278995bb26"
   },
   "outputs": [
    {
     "data": {
      "text/html": [
       "<div>\n",
       "<style scoped>\n",
       "    .dataframe tbody tr th:only-of-type {\n",
       "        vertical-align: middle;\n",
       "    }\n",
       "\n",
       "    .dataframe tbody tr th {\n",
       "        vertical-align: top;\n",
       "    }\n",
       "\n",
       "    .dataframe thead th {\n",
       "        text-align: right;\n",
       "    }\n",
       "</style>\n",
       "<table border=\"1\" class=\"dataframe\">\n",
       "  <thead>\n",
       "    <tr style=\"text-align: right;\">\n",
       "      <th></th>\n",
       "      <th>Name</th>\n",
       "      <th>Age</th>\n",
       "      <th>Department</th>\n",
       "      <th>Salary</th>\n",
       "      <th>Bonus</th>\n",
       "    </tr>\n",
       "  </thead>\n",
       "  <tbody>\n",
       "    <tr>\n",
       "      <th>0</th>\n",
       "      <td>dsa</td>\n",
       "      <td>35</td>\n",
       "      <td>hr</td>\n",
       "      <td>35000.0</td>\n",
       "      <td>3500.0</td>\n",
       "    </tr>\n",
       "    <tr>\n",
       "      <th>1</th>\n",
       "      <td>ghjg</td>\n",
       "      <td>25</td>\n",
       "      <td>hr</td>\n",
       "      <td>20000.0</td>\n",
       "      <td>2000.0</td>\n",
       "    </tr>\n",
       "    <tr>\n",
       "      <th>2</th>\n",
       "      <td>jhkj</td>\n",
       "      <td>45</td>\n",
       "      <td>admin</td>\n",
       "      <td>25000.0</td>\n",
       "      <td>2500.0</td>\n",
       "    </tr>\n",
       "  </tbody>\n",
       "</table>\n",
       "</div>"
      ],
      "text/plain": [
       "   Name  Age Department   Salary   Bonus\n",
       "0   dsa   35         hr  35000.0  3500.0\n",
       "1  ghjg   25         hr  20000.0  2000.0\n",
       "2  jhkj   45      admin  25000.0  2500.0"
      ]
     },
     "execution_count": 11,
     "metadata": {},
     "output_type": "execute_result"
    }
   ],
   "source": [
    "#Display employee.csv\n",
    "dataframe = pd.read_csv(r'C:\\Users\\Student\\Desktop\\Vasugi\\emp.csv')\n",
    "dataframe"
   ]
  },
  {
   "cell_type": "code",
   "execution_count": null,
   "metadata": {
    "id": "9EH08nqC_Hb1"
   },
   "outputs": [],
   "source": []
  }
 ],
 "metadata": {
  "colab": {
   "provenance": []
  },
  "kernelspec": {
   "display_name": "Python 3 (ipykernel)",
   "language": "python",
   "name": "python3"
  },
  "language_info": {
   "codemirror_mode": {
    "name": "ipython",
    "version": 3
   },
   "file_extension": ".py",
   "mimetype": "text/x-python",
   "name": "python",
   "nbconvert_exporter": "python",
   "pygments_lexer": "ipython3",
   "version": "3.12.4"
  }
 },
 "nbformat": 4,
 "nbformat_minor": 4
}
