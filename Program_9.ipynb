{
  "nbformat": 4,
  "nbformat_minor": 0,
  "metadata": {
    "colab": {
      "provenance": []
    },
    "kernelspec": {
      "name": "python3",
      "display_name": "Python 3"
    },
    "language_info": {
      "name": "python"
    }
  },
  "cells": [
    {
      "cell_type": "markdown",
      "source": [
        "**Program-9 **\n",
        "\n",
        "Given the scores of students in 5 subjects, perform the following operations:\n",
        "\n",
        "1) Create a 2D NumPy array with rows representing students and columns representing subjects.\n",
        "\n",
        "2) Compute the total and average score of each student.\n",
        "\n",
        "3) Find the highest scorer and the subject with the highest average score."
      ],
      "metadata": {
        "id": "a_5ZSc_RETYN"
      }
    },
    {
      "cell_type": "code",
      "execution_count": 1,
      "metadata": {
        "id": "VSSUXkM8ERY3"
      },
      "outputs": [],
      "source": [
        "import numpy as np\n",
        "\n",
        "# Step 1: Create a 2D NumPy array with rows as students and columns as subjects\n",
        "scores = np.array([\n",
        "    [85, 78, 92, 88, 76],  # Student 1\n",
        "    [72, 84, 89, 91, 80],  # Student 2\n",
        "    [89, 90, 94, 87, 88],  # Student 3\n",
        "    [76, 85, 80, 83, 79],  # Student 4\n",
        "    [90, 88, 85, 92, 91],  # Student 5\n",
        "])\n"
      ]
    },
    {
      "cell_type": "code",
      "source": [
        "# Step 2: Compute the total and average score of each student\n",
        "total_scores = np.sum(scores, axis=1)\n",
        "average_scores = np.mean(scores, axis=1)\n"
      ],
      "metadata": {
        "id": "sOoT32AeE1m_"
      },
      "execution_count": 5,
      "outputs": []
    },
    {
      "cell_type": "code",
      "source": [
        "# Step 3: Find the highest scorer\n",
        "highest_scorer_index = np.argmax(total_scores)\n",
        "highest_scorer_total = total_scores[highest_scorer_index]\n",
        "\n"
      ],
      "metadata": {
        "id": "zLOtRIFHE3RD"
      },
      "execution_count": 6,
      "outputs": []
    },
    {
      "cell_type": "code",
      "source": [
        "# Step 4: Find the subject with the highest average score\n",
        "subject_averages = np.mean(scores, axis=0)\n",
        "highest_avg_subject_index = np.argmax(subject_averages)\n",
        "highest_avg_subject_score = subject_averages[highest_avg_subject_index]\n",
        "\n"
      ],
      "metadata": {
        "id": "OaS4i9tCE5Gj"
      },
      "execution_count": 7,
      "outputs": []
    },
    {
      "cell_type": "code",
      "source": [
        "# Output the results\n",
        "print(\"Scores Matrix (Students x Subjects):\\n\", scores)\n",
        "print(\"\\nTotal Scores of Students:\", total_scores)\n",
        "print(\"Average Scores of Students:\", average_scores)\n",
        "print(f\"\\nHighest Scorer: Student {highest_scorer_index + 1} with Total Score {highest_scorer_total}\")\n",
        "print(\n",
        "    f\"Subject with Highest Average Score: Subject {highest_avg_subject_index + 1} \"\n",
        "    f\"with Average Score {highest_avg_subject_score:.2f}\"\n",
        ")"
      ],
      "metadata": {
        "colab": {
          "base_uri": "https://localhost:8080/"
        },
        "id": "EsU-oS3sE6yC",
        "outputId": "cb21869f-3f61-43bc-b35d-6fb4c1591bdb"
      },
      "execution_count": 8,
      "outputs": [
        {
          "output_type": "stream",
          "name": "stdout",
          "text": [
            "Scores Matrix (Students x Subjects):\n",
            " [[85 78 92 88 76]\n",
            " [72 84 89 91 80]\n",
            " [89 90 94 87 88]\n",
            " [76 85 80 83 79]\n",
            " [90 88 85 92 91]]\n",
            "\n",
            "Total Scores of Students: [419 416 448 403 446]\n",
            "Average Scores of Students: [83.8 83.2 89.6 80.6 89.2]\n",
            "\n",
            "Highest Scorer: Student 3 with Total Score 448\n",
            "Subject with Highest Average Score: Subject 4 with Average Score 88.20\n"
          ]
        }
      ]
    },
    {
      "cell_type": "code",
      "source": [],
      "metadata": {
        "id": "2itdg1o5E-UK"
      },
      "execution_count": null,
      "outputs": []
    }
  ]
}