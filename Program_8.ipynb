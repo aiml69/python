{
  "nbformat": 4,
  "nbformat_minor": 0,
  "metadata": {
    "colab": {
      "provenance": []
    },
    "kernelspec": {
      "name": "python3",
      "display_name": "Python 3"
    },
    "language_info": {
      "name": "python"
    }
  },
  "cells": [
    {
      "cell_type": "markdown",
      "source": [
        "#**Program-8**\n",
        "\n",
        "#Develop python program to read Numpy array and print row (sum,mean std) and column (sum,mean,std)"
      ],
      "metadata": {
        "id": "7q70VK_lGB0V"
      }
    },
    {
      "cell_type": "code",
      "execution_count": 1,
      "metadata": {
        "id": "a6vsFC01FgI-"
      },
      "outputs": [],
      "source": [
        "\n",
        "import numpy as np\n",
        "\n"
      ]
    },
    {
      "cell_type": "code",
      "source": [
        "def calculate_stats(arr):\n",
        "    # Calculate row-wise statistics\n",
        "    row_sums = np.sum(arr, axis=1)\n",
        "    row_means = np.mean(arr, axis=1)\n",
        "    row_stds = np.std(arr, axis=1)\n",
        "\n",
        "    # Calculate column-wise statistics\n",
        "    col_sums = np.sum(arr, axis=0)\n",
        "    col_means = np.mean(arr, axis=0)\n",
        "    col_stds = np.std(arr, axis=0)\n",
        "\n",
        "    return row_sums, row_means, row_stds, col_sums, col_means, col_stds\n",
        "\n"
      ],
      "metadata": {
        "id": "ctqQCC5pFlIM"
      },
      "execution_count": 2,
      "outputs": []
    },
    {
      "cell_type": "code",
      "source": [
        "# Accepting input for a NumPy array\n",
        "rows = int(input(\"Enter the number of rows: \"))\n",
        "cols = int(input(\"Enter the number of columns: \"))\n",
        "\n",
        "# Initialize an empty array\n",
        "data = []\n",
        "\n"
      ],
      "metadata": {
        "colab": {
          "base_uri": "https://localhost:8080/"
        },
        "id": "3undSNvaFo-b",
        "outputId": "695493eb-7576-4061-85f6-c77e9efe6b58"
      },
      "execution_count": 3,
      "outputs": [
        {
          "name": "stdout",
          "output_type": "stream",
          "text": [
            "Enter the number of rows: 2\n",
            "Enter the number of columns: 2\n"
          ]
        }
      ]
    },
    {
      "cell_type": "code",
      "source": [
        "print(\"Enter the elements of the array row by row (space-separated):\")\n",
        "for i in range(rows):\n",
        "    row = list(map(float, input(f\"Row {i+1}: \").split()))\n",
        "    data.append(row)\n",
        "\n"
      ],
      "metadata": {
        "colab": {
          "base_uri": "https://localhost:8080/"
        },
        "id": "aCEKLy27FrT6",
        "outputId": "85cd6524-bcf6-440a-ff3a-deef75466a60"
      },
      "execution_count": 4,
      "outputs": [
        {
          "name": "stdout",
          "output_type": "stream",
          "text": [
            "Enter the elements of the array row by row (space-separated):\n",
            "Row 1: 2 3\n",
            "Row 2: 4 5\n"
          ]
        }
      ]
    },
    {
      "cell_type": "code",
      "source": [
        "# Convert list to a NumPy array\n",
        "array = np.array(data)\n",
        "\n"
      ],
      "metadata": {
        "id": "FH1qZ0SdFwlK"
      },
      "execution_count": 5,
      "outputs": []
    },
    {
      "cell_type": "code",
      "source": [
        "# Calculate statistics\n",
        "row_sums, row_means, row_stds, col_sums, col_means, col_stds = calculate_stats(array)\n"
      ],
      "metadata": {
        "id": "Oi96zaeAF1la"
      },
      "execution_count": 6,
      "outputs": []
    },
    {
      "cell_type": "code",
      "source": [
        "\n",
        "# Display results\n",
        "print(\"\\nRow-wise statistics:\")\n",
        "print(\"Row\\tSum\\t\\tMean\\t\\tStd Dev\")\n",
        "for i in range(rows):\n",
        "    print(f\"{i+1}\\t{row_sums[i]:.2f}\\t{row_means[i]:.2f}\\t{row_stds[i]:.2f}\")\n",
        "\n"
      ],
      "metadata": {
        "colab": {
          "base_uri": "https://localhost:8080/"
        },
        "id": "V480wzENF3zz",
        "outputId": "4f6a634f-353e-4bca-b18f-9795b2aef211"
      },
      "execution_count": 7,
      "outputs": [
        {
          "output_type": "stream",
          "name": "stdout",
          "text": [
            "\n",
            "Row-wise statistics:\n",
            "Row\tSum\t\tMean\t\tStd Dev\n",
            "1\t5.00\t2.50\t0.50\n",
            "2\t9.00\t4.50\t0.50\n"
          ]
        }
      ]
    },
    {
      "cell_type": "code",
      "source": [
        "print(\"\\nColumn-wise statistics:\")\n",
        "print(\"Column\\tSum\\t\\tMean\\t\\tStd Dev\")\n",
        "for j in range(cols):\n",
        "    print(f\"{j+1}\\t{col_sums[j]:.2f}\\t{col_means[j]:.2f}\\t{col_stds[j]:.2f}\")"
      ],
      "metadata": {
        "colab": {
          "base_uri": "https://localhost:8080/"
        },
        "id": "7Pi4KKkuF6Bh",
        "outputId": "9b01da7a-eebe-4066-c567-ee5e6e73f8d1"
      },
      "execution_count": 8,
      "outputs": [
        {
          "output_type": "stream",
          "name": "stdout",
          "text": [
            "\n",
            "Column-wise statistics:\n",
            "Column\tSum\t\tMean\t\tStd Dev\n",
            "1\t6.00\t3.00\t1.00\n",
            "2\t8.00\t4.00\t1.00\n"
          ]
        }
      ]
    },
    {
      "cell_type": "code",
      "source": [],
      "metadata": {
        "id": "JL9HxvT8F7DM"
      },
      "execution_count": null,
      "outputs": []
    }
  ]
}